{
 "cells": [
  {
   "attachments": {},
   "cell_type": "markdown",
   "metadata": {},
   "source": [
    "# Analysis of European Soccer, 2015-2016."
   ]
  },
  {
   "attachments": {},
   "cell_type": "markdown",
   "metadata": {},
   "source": [
    "<img src=\"./images/soccer.PNG\" alt=\"European Soccer Players\">"
   ]
  },
  {
   "attachments": {},
   "cell_type": "markdown",
   "metadata": {},
   "source": [
    "This dataset, taken from a Kaggle dataset repository, consists of 11 european countries and their respective championships or leagues. There are 25,000 matches plus in the dataset and more than 10,000 players. But for our analysis, we will concentrate on just the three four leagues in Europe: The Premiership in England, the Bundesliga in Germany, La liga in Spain, and Series A in Italy."
   ]
  },
  {
   "cell_type": "code",
   "execution_count": null,
   "metadata": {},
   "outputs": [],
   "source": []
  }
 ],
 "metadata": {
  "language_info": {
   "name": "python"
  },
  "orig_nbformat": 4
 },
 "nbformat": 4,
 "nbformat_minor": 2
}

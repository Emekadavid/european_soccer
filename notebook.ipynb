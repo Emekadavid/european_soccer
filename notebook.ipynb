{
 "cells": [
  {
   "attachments": {},
   "cell_type": "markdown",
   "metadata": {},
   "source": [
    "# Analysis of European Soccer, 2008-2016."
   ]
  },
  {
   "attachments": {},
   "cell_type": "markdown",
   "metadata": {},
   "source": [
    "<img src=\"./images/soccer.PNG\" alt=\"European Soccer Players\">"
   ]
  },
  {
   "attachments": {},
   "cell_type": "markdown",
   "metadata": {},
   "source": [
    "This dataset, taken from a Kaggle dataset repository, consists of 11 european countries and their respective championships or leagues. There are 25,000 matches plus in the dataset and more than 10,000 players. But for our analysis, we will concentrate on just the three four leagues in Europe: The Premiership in England, the Bundesliga in Germany, La liga in Spain, and Series A in Italy."
   ]
  },
  {
   "attachments": {},
   "cell_type": "markdown",
   "metadata": {},
   "source": [
    "## Importing the dataset\n",
    "\n",
    "The dataset is an SQLite database with 7 tables - Country, League, Match, Player, Player_Attributes, Team, and Team_Attributes. To use the data, we need to convert the tables to a pandas dataframe so we could clean it and generate insights. "
   ]
  }
 ],
 "metadata": {
  "kernelspec": {
   "display_name": "Python 3",
   "language": "python",
   "name": "python3"
  },
  "language_info": {
   "name": "python",
   "version": "3.8.10 (default, Jun 22 2022, 20:18:18) \n[GCC 9.4.0]"
  },
  "orig_nbformat": 4,
  "vscode": {
   "interpreter": {
    "hash": "916dbcbb3f70747c44a77c7bcd40155683ae19c65e1c03b4aa3499c5328201f1"
   }
  }
 },
 "nbformat": 4,
 "nbformat_minor": 2
}

{
 "cells": [
  {
   "attachments": {},
   "cell_type": "markdown",
   "metadata": {},
   "source": [
    "# Analysis of European Soccer, 2008-2016."
   ]
  },
  {
   "attachments": {},
   "cell_type": "markdown",
   "metadata": {},
   "source": [
    "<img src=\"./images/soccer.PNG\" alt=\"European Soccer Players\">"
   ]
  },
  {
   "attachments": {},
   "cell_type": "markdown",
   "metadata": {},
   "source": [
    "This dataset, taken from a Kaggle dataset repository, consists of 11 european countries and their respective championships or leagues. There are 25,000 matches plus in the dataset and more than 10,000 players. But for our analysis, we will concentrate on just the three four leagues in Europe: The Premiership in England, the Bundesliga in Germany, La liga in Spain, and Series A in Italy."
   ]
  },
  {
   "attachments": {},
   "cell_type": "markdown",
   "metadata": {},
   "source": [
    "## Importing the dataset\n",
    "\n",
    "The dataset is an SQLite database with 7 tables - Country, League, Match, Player, Player_Attributes, Team, and Team_Attributes. To use the data, we need to convert the tables to a pandas dataframe so we could clean it and generate insights. "
   ]
  },
  {
   "attachments": {},
   "cell_type": "markdown",
   "metadata": {},
   "source": [
    "The code to convert all the tables to csv was found from a stackoverflow post. The link to the post is in the references section of this notebook. "
   ]
  },
  {
   "cell_type": "code",
   "execution_count": 1,
   "metadata": {},
   "outputs": [],
   "source": [
    "import pandas as pd\n",
    "import sqlite3\n"
   ]
  },
  {
   "cell_type": "code",
   "execution_count": 2,
   "metadata": {},
   "outputs": [],
   "source": [
    "# uncomment this section if this is your first time here. \n",
    "\n",
    "# # establish sqlite connection\n",
    "# conn = sqlite3.connect('database.sqlite')\n",
    "# c = conn.cursor()\n",
    "\n",
    "# # loop through the database tables and extract them. \n",
    "# for table in c.execute(\"SELECT name FROM sqlite_master WHERE type='table';\").fetchall():\n",
    "#     t = table[0]\n",
    "#     df = pd.read_sql('SELECT * from ' + t, conn)\n",
    "#     df.to_parquet('./data/' + t + '.csv')"
   ]
  },
  {
   "attachments": {},
   "cell_type": "markdown",
   "metadata": {},
   "source": [
    "## References\n",
    "\n",
    "1. [How to extract tables from SQLite Database. Stackoverflow post.](https://stackoverflow.com/questions/18827028/write-to-csv-from-sqlite3-database-in-python)"
   ]
  }
 ],
 "metadata": {
  "kernelspec": {
   "display_name": "Python 3",
   "language": "python",
   "name": "python3"
  },
  "language_info": {
   "codemirror_mode": {
    "name": "ipython",
    "version": 3
   },
   "file_extension": ".py",
   "mimetype": "text/x-python",
   "name": "python",
   "nbconvert_exporter": "python",
   "pygments_lexer": "ipython3",
   "version": "3.8.10"
  },
  "orig_nbformat": 4,
  "vscode": {
   "interpreter": {
    "hash": "916dbcbb3f70747c44a77c7bcd40155683ae19c65e1c03b4aa3499c5328201f1"
   }
  }
 },
 "nbformat": 4,
 "nbformat_minor": 2
}
